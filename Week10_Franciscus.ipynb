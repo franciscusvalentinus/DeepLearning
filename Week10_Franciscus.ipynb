{
  "cells": [
    {
      "cell_type": "markdown",
      "metadata": {
        "id": "2asYZUyZ1JOj"
      },
      "source": [
        "# 1. Mounting Google Drive\n",
        "\n"
      ]
    },
    {
      "cell_type": "code",
      "execution_count": null,
      "metadata": {
        "id": "DSUbwx6w0SUw",
        "colab": {
          "base_uri": "https://localhost:8080/"
        },
        "outputId": "12b57566-f90e-4f68-a975-08fa77dba764"
      },
      "outputs": [
        {
          "output_type": "stream",
          "name": "stdout",
          "text": [
            "Mounted at /gdrive\n"
          ]
        }
      ],
      "source": [
        "from google.colab import drive\n",
        "drive.mount('/gdrive')"
      ]
    },
    {
      "cell_type": "markdown",
      "metadata": {
        "id": "Gf__Z9zX2EdM"
      },
      "source": [
        "# 2. Read Available GPU"
      ]
    },
    {
      "cell_type": "code",
      "execution_count": null,
      "metadata": {
        "colab": {
          "base_uri": "https://localhost:8080/"
        },
        "id": "A7CsQLOv2e2n",
        "outputId": "2bbc0db8-0335-474d-e992-90073281b08e"
      },
      "outputs": [
        {
          "output_type": "stream",
          "name": "stdout",
          "text": [
            "Num GPU available:  1\n",
            "[PhysicalDevice(name='/physical_device:GPU:0', device_type='GPU')]\n",
            "[name: \"/device:CPU:0\"\n",
            "device_type: \"CPU\"\n",
            "memory_limit: 268435456\n",
            "locality {\n",
            "}\n",
            "incarnation: 7483542350706677017\n",
            "xla_global_id: -1\n",
            ", name: \"/device:GPU:0\"\n",
            "device_type: \"GPU\"\n",
            "memory_limit: 14465892352\n",
            "locality {\n",
            "  bus_id: 1\n",
            "  links {\n",
            "  }\n",
            "}\n",
            "incarnation: 11754130317670392535\n",
            "physical_device_desc: \"device: 0, name: Tesla T4, pci bus id: 0000:00:04.0, compute capability: 7.5\"\n",
            "xla_global_id: 416903419\n",
            "]\n"
          ]
        }
      ],
      "source": [
        "import tensorflow as tf\n",
        "from tensorflow.python.client import device_lib\n",
        "\n",
        "print(\"Num GPU available: \", len(tf.config.list_physical_devices('GPU')))\n",
        "print(tf.config.list_physical_devices('GPU'))\n",
        "print(device_lib.list_local_devices())"
      ]
    },
    {
      "cell_type": "markdown",
      "metadata": {
        "id": "LhT3hIO83cYq"
      },
      "source": [
        "# 3. Read Dataset from GDrive"
      ]
    },
    {
      "cell_type": "code",
      "execution_count": null,
      "metadata": {
        "id": "cLDE9mjB3EiI"
      },
      "outputs": [],
      "source": [
        "import os\n",
        "import tensorflow as tf\n",
        "from tensorflow.keras.preprocessing import image_dataset_from_directory\n",
        "from tensorflow.keras.layers import Input, Conv2D, Activation, MaxPooling2D, Flatten, Dense, Dropout\n",
        "from datetime import datetime\n",
        "\n",
        "batch_size = 300\n",
        "width = 224\n",
        "height = 224\n",
        "nama = \"venturi\"\n",
        "data_dir = \"/gdrive/MyDrive/SMS6-Deep_Learning/Week_9/Coding/Data/flowers\""
      ]
    },
    {
      "cell_type": "markdown",
      "metadata": {
        "id": "WQEuRPxf6yVv"
      },
      "source": [
        "Binary Classification"
      ]
    },
    {
      "cell_type": "code",
      "execution_count": null,
      "metadata": {
        "id": "cFp-wpzX3mua"
      },
      "outputs": [],
      "source": [
        "train_ds = image_dataset_from_directory(\n",
        "    data_dir+\"/train\",\n",
        "    validation_split = 0.2,\n",
        "    subset = 'training',\n",
        "    seed = 50,\n",
        "    image_size = (width, height),\n",
        "    batch_size = batch_size,\n",
        "    label_mode = 'binary'\n",
        ")\n",
        "\n",
        "val_ds = image_dataset_from_directory(\n",
        "    data_dir+\"/train\",\n",
        "    validation_split = 0.2,\n",
        "    subset = 'validation',\n",
        "    seed = 50,\n",
        "    image_size = (width, height),\n",
        "    batch_size = batch_size,\n",
        "    label_mode = 'binary'\n",
        ")"
      ]
    },
    {
      "cell_type": "markdown",
      "metadata": {
        "id": "MzIfpP5J7dIR"
      },
      "source": [
        "Multi Classification"
      ]
    },
    {
      "cell_type": "code",
      "execution_count": null,
      "metadata": {
        "colab": {
          "base_uri": "https://localhost:8080/"
        },
        "id": "IEyICOdG7f5T",
        "outputId": "b8d03446-8157-467a-af28-d4292ce839a9"
      },
      "outputs": [
        {
          "output_type": "stream",
          "name": "stdout",
          "text": [
            "Found 4318 files belonging to 5 classes.\n",
            "Using 3455 files for training.\n",
            "Found 4318 files belonging to 5 classes.\n",
            "Using 863 files for validation.\n"
          ]
        }
      ],
      "source": [
        "train_ds = image_dataset_from_directory(\n",
        "    data_dir+\"/train\",\n",
        "    validation_split = 0.2,\n",
        "    subset = 'training',\n",
        "    seed = 50,\n",
        "    image_size = (width, height),\n",
        "    batch_size = batch_size,\n",
        "    label_mode = 'categorical'\n",
        ")\n",
        "\n",
        "val_ds = image_dataset_from_directory(\n",
        "    data_dir+\"/train\",\n",
        "    validation_split = 0.2,\n",
        "    subset = 'validation',\n",
        "    seed = 50,\n",
        "    image_size = (width, height),\n",
        "    batch_size = batch_size,\n",
        "    label_mode = 'categorical'\n",
        ")"
      ]
    },
    {
      "cell_type": "code",
      "execution_count": null,
      "metadata": {
        "colab": {
          "base_uri": "https://localhost:8080/"
        },
        "id": "O9oSoiGf8tUb",
        "outputId": "9a56e329-565d-4bc1-b512-80917ba6cd8c"
      },
      "outputs": [
        {
          "output_type": "stream",
          "name": "stdout",
          "text": [
            "['daisy', 'dandelion', 'rose', 'sunflower', 'tulip']\n"
          ]
        }
      ],
      "source": [
        "class_names = train_ds.class_names\n",
        "print(class_names)\n",
        "# Wajib di run sampai sini"
      ]
    },
    {
      "cell_type": "code",
      "execution_count": null,
      "metadata": {
        "id": "8-LqtN9f83ay",
        "colab": {
          "base_uri": "https://localhost:8080/",
          "height": 542
        },
        "outputId": "54c6aa49-72fc-40b6-8ca4-0748a67b311d"
      },
      "outputs": [
        {
          "output_type": "error",
          "ename": "TypeError",
          "evalue": "ignored",
          "traceback": [
            "\u001b[0;31m---------------------------------------------------------------------------\u001b[0m",
            "\u001b[0;31mTypeError\u001b[0m                                 Traceback (most recent call last)",
            "\u001b[0;32m<ipython-input-9-5603c4da14ef>\u001b[0m in \u001b[0;36m<module>\u001b[0;34m()\u001b[0m\n\u001b[1;32m      8\u001b[0m         \u001b[0max\u001b[0m \u001b[0;34m=\u001b[0m \u001b[0mplt\u001b[0m\u001b[0;34m.\u001b[0m\u001b[0msubplot\u001b[0m\u001b[0;34m(\u001b[0m\u001b[0;36m3\u001b[0m\u001b[0;34m,\u001b[0m \u001b[0;36m3\u001b[0m\u001b[0;34m,\u001b[0m \u001b[0mi\u001b[0m \u001b[0;34m+\u001b[0m \u001b[0;36m1\u001b[0m\u001b[0;34m)\u001b[0m\u001b[0;34m\u001b[0m\u001b[0;34m\u001b[0m\u001b[0m\n\u001b[1;32m      9\u001b[0m         \u001b[0mplt\u001b[0m\u001b[0;34m.\u001b[0m\u001b[0mimshow\u001b[0m\u001b[0;34m(\u001b[0m\u001b[0mimages\u001b[0m\u001b[0;34m[\u001b[0m\u001b[0mi\u001b[0m\u001b[0;34m]\u001b[0m\u001b[0;34m.\u001b[0m\u001b[0mnumpy\u001b[0m\u001b[0;34m(\u001b[0m\u001b[0;34m)\u001b[0m\u001b[0;34m.\u001b[0m\u001b[0mastype\u001b[0m\u001b[0;34m(\u001b[0m\u001b[0;34m\"uint8\"\u001b[0m\u001b[0;34m)\u001b[0m\u001b[0;34m)\u001b[0m\u001b[0;34m\u001b[0m\u001b[0;34m\u001b[0m\u001b[0m\n\u001b[0;32m---> 10\u001b[0;31m         \u001b[0mplt\u001b[0m\u001b[0;34m.\u001b[0m\u001b[0mtitle\u001b[0m\u001b[0;34m(\u001b[0m\u001b[0mint\u001b[0m\u001b[0;34m(\u001b[0m\u001b[0mclass_names\u001b[0m\u001b[0;34m[\u001b[0m\u001b[0mlabels\u001b[0m\u001b[0;34m[\u001b[0m\u001b[0mi\u001b[0m\u001b[0;34m]\u001b[0m\u001b[0;34m]\u001b[0m\u001b[0;34m)\u001b[0m\u001b[0;34m)\u001b[0m\u001b[0;34m\u001b[0m\u001b[0;34m\u001b[0m\u001b[0m\n\u001b[0m\u001b[1;32m     11\u001b[0m         \u001b[0mplt\u001b[0m\u001b[0;34m.\u001b[0m\u001b[0maxis\u001b[0m\u001b[0;34m(\u001b[0m\u001b[0;34m\"off\"\u001b[0m\u001b[0;34m)\u001b[0m\u001b[0;34m\u001b[0m\u001b[0;34m\u001b[0m\u001b[0m\n",
            "\u001b[0;32m/usr/local/lib/python3.7/dist-packages/tensorflow/python/framework/ops.py\u001b[0m in \u001b[0;36m__index__\u001b[0;34m(self)\u001b[0m\n\u001b[1;32m   1129\u001b[0m \u001b[0;34m\u001b[0m\u001b[0m\n\u001b[1;32m   1130\u001b[0m   \u001b[0;32mdef\u001b[0m \u001b[0m__index__\u001b[0m\u001b[0;34m(\u001b[0m\u001b[0mself\u001b[0m\u001b[0;34m)\u001b[0m\u001b[0;34m:\u001b[0m\u001b[0;34m\u001b[0m\u001b[0;34m\u001b[0m\u001b[0m\n\u001b[0;32m-> 1131\u001b[0;31m     \u001b[0;32mreturn\u001b[0m \u001b[0mself\u001b[0m\u001b[0;34m.\u001b[0m\u001b[0m_numpy\u001b[0m\u001b[0;34m(\u001b[0m\u001b[0;34m)\u001b[0m\u001b[0;34m.\u001b[0m\u001b[0m__index__\u001b[0m\u001b[0;34m(\u001b[0m\u001b[0;34m)\u001b[0m\u001b[0;34m\u001b[0m\u001b[0;34m\u001b[0m\u001b[0m\n\u001b[0m\u001b[1;32m   1132\u001b[0m \u001b[0;34m\u001b[0m\u001b[0m\n\u001b[1;32m   1133\u001b[0m   \u001b[0;32mdef\u001b[0m \u001b[0m__bool__\u001b[0m\u001b[0;34m(\u001b[0m\u001b[0mself\u001b[0m\u001b[0;34m)\u001b[0m\u001b[0;34m:\u001b[0m\u001b[0;34m\u001b[0m\u001b[0;34m\u001b[0m\u001b[0m\n",
            "\u001b[0;31mTypeError\u001b[0m: only integer scalar arrays can be converted to a scalar index"
          ]
        },
        {
          "output_type": "display_data",
          "data": {
            "text/plain": [
              "<Figure size 720x720 with 1 Axes>"
            ],
            "image/png": "[encoded data removed]"
          },
          "metadata": {
            "needs_background": "light"
          }
        }
      ],
      "source": [
        "# Displaying Datasets\n",
        "import matplotlib.pyplot as plt\n",
        "\n",
        "plt.figure(figsize=(10, 10))\n",
        "\n",
        "for images, labels in train_ds.take(1):\n",
        "    for i in range(9):\n",
        "        ax = plt.subplot(3, 3, i + 1)\n",
        "        plt.imshow(images[i].numpy().astype(\"uint8\"))\n",
        "        plt.title(int(class_names[labels[i]]))\n",
        "        plt.axis(\"off\")"
      ]
    },
    {
      "cell_type": "code",
      "execution_count": null,
      "metadata": {
        "colab": {
          "base_uri": "https://localhost:8080/"
        },
        "id": "lQriv4XN-0Sj",
        "outputId": "23ffd95a-38d7-447c-8582-a1124152536b"
      },
      "outputs": [
        {
          "output_type": "stream",
          "name": "stdout",
          "text": [
            "(300, 224, 224, 3)\n",
            "(300, 5)\n"
          ]
        }
      ],
      "source": [
        "for image_batch, label_batch in train_ds:\n",
        "    print(image_batch.shape)\n",
        "    print(label_batch.shape)\n",
        "    break"
      ]
    },
    {
      "cell_type": "markdown",
      "metadata": {
        "id": "L-bRo1Kr_ga0"
      },
      "source": [
        "# 4. Building Model"
      ]
    },
    {
      "cell_type": "code",
      "execution_count": null,
      "metadata": {
        "id": "vzV3q1Az_LJX"
      },
      "outputs": [],
      "source": [
        "def BinaryModel(input_shape, num_classes):\n",
        "    assert len(input_shape) == 3\n",
        "\n",
        "    # Input layer\n",
        "    x_input = Input(shape = input_shape)\n",
        "\n",
        "    # Normalisasi layer\n",
        "    x = tf.keras.layers.Rescaling(1./255)(x_input)\n",
        "    \n",
        "    # Layer 1\n",
        "    x = Conv2D(16, (11, 11), strides= (4, 4), padding='same')(x)\n",
        "    x = Activation('relu')(x)\n",
        "    x = MaxPooling2D(2, strides = 2)(x)\n",
        "\n",
        "    # Layer 2\n",
        "    x = Conv2D(20, (3, 3), strides= (1, 1), padding='same')(x)\n",
        "    x = Activation('relu')(x)\n",
        "    x = MaxPooling2D(2, strides = 2)(x)\n",
        "\n",
        "    # Layer 3\n",
        "    x = Conv2D(30, (3, 3), strides= (1, 1), padding='same', activation='relu')(x)\n",
        "\n",
        "    # Layer 4\n",
        "    x = Conv2D(60, (3, 3), strides= (1, 1), padding='same', activation='relu')(x)\n",
        "\n",
        "    # Layer 5\n",
        "    x = Conv2D(60, (3, 3), strides= (1, 1), padding='same', activation='relu')(x)\n",
        "    x = MaxPooling2D(2, strides = 2)(x)\n",
        "\n",
        "    # Flatten\n",
        "    x = Flatten()(x)\n",
        "\n",
        "    # Fully Connected Layer 1\n",
        "    x = Dense(50, activation='relu')(x)\n",
        "    x = Dropout(0.1)(x)\n",
        "\n",
        "    # Fully Connected Layer 2 \n",
        "    x = Dense(500, activation='relu')(x)\n",
        "\n",
        "    # Output Layer\n",
        "    x = Dense(1, activation = 'sigmoid')(x)\n",
        "\n",
        "    model = tf.keras.models.Model(inputs = x_input, outputs = x)\n",
        "    model.compile(\n",
        "      optimizer = 'adam',\n",
        "      loss = 'binary_crossentropy',\n",
        "      metrics = ['accuracy', tf.keras.metrics.Recall(), tf.keras.metrics.Precision()]\n",
        "    )\n",
        "\n",
        "    return model\n"
      ]
    },
    {
      "cell_type": "code",
      "execution_count": null,
      "metadata": {
        "id": "nOtVQ57UF7ua"
      },
      "outputs": [],
      "source": [
        "def MulticlassModel(input_shape, num_classes):\n",
        "    assert len(input_shape) == 3\n",
        "\n",
        "    # Input layer\n",
        "    x_input = Input(shape = input_shape)\n",
        "\n",
        "    # Normalisasi layer\n",
        "    x = tf.keras.layers.Rescaling(1./255)(x_input)\n",
        "    \n",
        "    # Layer 1\n",
        "    x = Conv2D(16, (11, 11), strides= (4, 4), padding='same')(x)\n",
        "    x = Activation('relu')(x)\n",
        "    x = MaxPooling2D(2, strides = 2)(x)\n",
        "\n",
        "    # Layer 2\n",
        "    x = Conv2D(32, (3, 3), strides= (2, 2), padding='same')(x)\n",
        "    x = Activation('relu')(x)\n",
        "    x = MaxPooling2D(2, strides = 2)(x)\n",
        "\n",
        "    # Layer 3\n",
        "    x = Conv2D(64, (3, 3), strides= (1, 1), padding='same', activation='relu')(x)\n",
        "\n",
        "    # Layer 4\n",
        "    x = Conv2D(128, (3, 3), strides= (1, 1), padding='same', activation='relu')(x)\n",
        "\n",
        "    # Layer 5\n",
        "#     x = Conv2D(384, (3, 3), strides= (1, 1), padding='same', activation='relu')(x)\n",
        "#     x = MaxPooling2D(2, strides = 2)(x)\n",
        "\n",
        "    # Flatten\n",
        "    x = Flatten()(x)\n",
        "\n",
        "    # Fully Connected Layer 1\n",
        "    x = Dense(200, activation='relu')(x)\n",
        "    x = Dropout(.2)(x)\n",
        "\n",
        "    # Fully Connected Layer 2 \n",
        "    x = Dense(100, activation='relu')(x)\n",
        "    x = Dropout(.2)(x)\n",
        "\n",
        "    # Output Layer\n",
        "    x = Dense(num_classes, activation = 'softmax')(x)\n",
        "\n",
        "    model = tf.keras.models.Model(inputs = x_input, outputs = x)\n",
        "    model.compile(\n",
        "      optimizer = 'adam',\n",
        "      loss = 'categorical_crossentropy',\n",
        "      metrics = ['accuracy', tf.keras.metrics.Recall(), tf.keras.metrics.Precision()]\n",
        "    )\n",
        "\n",
        "    return model\n"
      ]
    },
    {
      "cell_type": "code",
      "execution_count": 59,
      "metadata": {
        "id": "6pz_cMidk6Q3"
      },
      "outputs": [],
      "source": [
        "# Model Awal + Venturi Model Architecture\n",
        "def MulticlassModel(input_shape, num_classes):\n",
        "    assert len(input_shape) == 3\n",
        "\n",
        "    # Input layer\n",
        "    x_input = Input(shape = input_shape)\n",
        "\n",
        "    # Normalisasi layer\n",
        "    x = tf.keras.layers.Rescaling(1./255)(x_input)\n",
        "    \n",
        "    # Layer 1\n",
        "    x = Conv2D(16, (11, 11), strides= (4, 4), padding='same')(x)\n",
        "    x = Activation('relu')(x)\n",
        "    x = MaxPooling2D(2, strides = 2)(x)\n",
        "\n",
        "    # Layer 2\n",
        "    x = Conv2D(32, (3, 3), strides= (2, 2), padding='same')(x)\n",
        "    x = Activation('relu')(x)\n",
        "    x = MaxPooling2D(2, strides = 2)(x)\n",
        "\n",
        "    # Layer 3\n",
        "    x = Conv2D(64, (3, 3), strides= (1, 1), padding='same', activation='relu')(x)\n",
        "\n",
        "    # Layer 4\n",
        "    x = Conv2D(128, (3, 3), strides= (1, 1), padding='same', activation='relu')(x)\n",
        "\n",
        "    # Layer 5\n",
        "#     x = Conv2D(384, (3, 3), strides= (1, 1), padding='same', activation='relu')(x)\n",
        "#     x = MaxPooling2D(2, strides = 2)(x)\n",
        "\n",
        "    # Flatten\n",
        "    x = Flatten()(x)\n",
        "\n",
        "    # Fully Connected Layer 1\n",
        "    x = Dense(64, activation='relu')(x)\n",
        "\n",
        "    # Fully Connected Layer 2 \n",
        "    x = Dense(48, activation='relu')(x)\n",
        "\n",
        "    # Fully Connected Layer 3\n",
        "    x = Dense(32, activation='relu')(x)\n",
        "\n",
        "    # Fully Connected Layer 4 \n",
        "    x = Dense(32, activation='relu')(x)\n",
        "\n",
        "    # Fully Connected Layer 5 \n",
        "    x = Dense(48, activation='relu')(x)\n",
        "\n",
        "    # Fully Connected Layer 6 \n",
        "    x = Dense(64, activation='relu')(x)\n",
        "\n",
        "    # Output Layer\n",
        "    x = Dense(num_classes, activation = 'softmax')(x)\n",
        "\n",
        "    model = tf.keras.models.Model(inputs = x_input, outputs = x)\n",
        "    model.compile(\n",
        "      optimizer = 'adam',\n",
        "      loss = 'categorical_crossentropy',\n",
        "      metrics = ['accuracy', tf.keras.metrics.Recall(), tf.keras.metrics.Precision()]\n",
        "    )\n",
        "\n",
        "    return model\n"
      ]
    },
    {
      "cell_type": "code",
      "execution_count": 48,
      "metadata": {
        "id": "jpWkRV9WsGbS"
      },
      "outputs": [],
      "source": [
        "# Ko Rei Model Architecture\n",
        "def MulticlassModel(input_shape, num_classes):\n",
        "    assert len(input_shape) == 3\n",
        "\n",
        "    # Input layer\n",
        "    x_input = Input(shape = input_shape)\n",
        "    \n",
        "    # Layer 1\n",
        "    x = Conv2D(96, (11, 11), strides= (4, 4), padding='same')(x_input)\n",
        "    x = Activation('relu')(x)\n",
        "    x = MaxPooling2D(2, strides = 2)(x)\n",
        "    \n",
        "    # Normalisasi layer\n",
        "    x = tf.keras.layers.Rescaling(1./255)(x)\n",
        "\n",
        "    # Layer 2\n",
        "    x = Conv2D(256, (3, 3), strides= (2, 2), padding='same')(x)\n",
        "    x = Activation('relu')(x)\n",
        "    x = MaxPooling2D(2, strides = 2)(x)\n",
        "\n",
        "    # Normalisasi layer\n",
        "    x = tf.keras.layers.Rescaling(1./255)(x)\n",
        "\n",
        "    # Layer 3\n",
        "    x = Conv2D(384, (3, 3), strides= (1, 1), padding='same', activation='relu')(x)\n",
        "\n",
        "    # Layer 4\n",
        "    x = Conv2D(384, (3, 3), strides= (1, 1), padding='same', activation='relu')(x)\n",
        "\n",
        "    # Layer 5\n",
        "    x = Conv2D(384, (3, 3), strides= (1, 1), padding='same', activation='relu')(x)\n",
        "    x = MaxPooling2D(2, strides = 2)(x)\n",
        "\n",
        "    # Flatten\n",
        "    x = Flatten()(x)\n",
        "\n",
        "    # Fully Connected Layer 1\n",
        "    x = Dense(4096, activation='relu')(x)\n",
        "    x = Dropout(0.1)(x)\n",
        "\n",
        "    # Fully Connected Layer 2 \n",
        "    x = Dense(4096, activation='relu')(x)\n",
        "    x = Dropout(0.1)(x)\n",
        "\n",
        "    # Output Layer\n",
        "    x = Dense(num_classes, activation = 'softmax')(x)\n",
        "\n",
        "    model = tf.keras.models.Model(inputs = x_input, outputs = x)\n",
        "    model.compile(\n",
        "      optimizer = 'adam',\n",
        "      loss = 'categorical_crossentropy',\n",
        "      metrics = ['accuracy', tf.keras.metrics.Recall(), tf.keras.metrics.Precision()]\n",
        "    )\n",
        "\n",
        "    return model\n"
      ]
    },
    {
      "cell_type": "code",
      "execution_count": 60,
      "metadata": {
        "colab": {
          "base_uri": "https://localhost:8080/"
        },
        "id": "xEqzFS3QG4rv",
        "outputId": "95636f99-5450-4bea-d603-8dc21f54c9d0"
      },
      "outputs": [
        {
          "output_type": "stream",
          "name": "stdout",
          "text": [
            "Model: \"model_5\"\n",
            "_________________________________________________________________\n",
            " Layer (type)                Output Shape              Param #   \n",
            "=================================================================\n",
            " input_6 (InputLayer)        [(None, 224, 224, 3)]     0         \n",
            "                                                                 \n",
            " rescaling_6 (Rescaling)     (None, 224, 224, 3)       0         \n",
            "                                                                 \n",
            " conv2d_17 (Conv2D)          (None, 56, 56, 16)        5824      \n",
            "                                                                 \n",
            " activation_6 (Activation)   (None, 56, 56, 16)        0         \n",
            "                                                                 \n",
            " max_pooling2d_11 (MaxPoolin  (None, 28, 28, 16)       0         \n",
            " g2D)                                                            \n",
            "                                                                 \n",
            " conv2d_18 (Conv2D)          (None, 14, 14, 32)        4640      \n",
            "                                                                 \n",
            " activation_7 (Activation)   (None, 14, 14, 32)        0         \n",
            "                                                                 \n",
            " max_pooling2d_12 (MaxPoolin  (None, 7, 7, 32)         0         \n",
            " g2D)                                                            \n",
            "                                                                 \n",
            " conv2d_19 (Conv2D)          (None, 7, 7, 64)          18496     \n",
            "                                                                 \n",
            " conv2d_20 (Conv2D)          (None, 7, 7, 128)         73856     \n",
            "                                                                 \n",
            " flatten_5 (Flatten)         (None, 6272)              0         \n",
            "                                                                 \n",
            " dense_27 (Dense)            (None, 64)                401472    \n",
            "                                                                 \n",
            " dense_28 (Dense)            (None, 48)                3120      \n",
            "                                                                 \n",
            " dense_29 (Dense)            (None, 32)                1568      \n",
            "                                                                 \n",
            " dense_30 (Dense)            (None, 32)                1056      \n",
            "                                                                 \n",
            " dense_31 (Dense)            (None, 48)                1584      \n",
            "                                                                 \n",
            " dense_32 (Dense)            (None, 64)                3136      \n",
            "                                                                 \n",
            " dense_33 (Dense)            (None, 5)                 325       \n",
            "                                                                 \n",
            "=================================================================\n",
            "Total params: 515,077\n",
            "Trainable params: 515,077\n",
            "Non-trainable params: 0\n",
            "_________________________________________________________________\n"
          ]
        }
      ],
      "source": [
        "Model = MulticlassModel(input_shape = [width, height, 3], num_classes = len(class_names))\n",
        "Model.summary()"
      ]
    },
    {
      "cell_type": "markdown",
      "metadata": {
        "id": "g_lpwVsEICPN"
      },
      "source": [
        "# 5. Training Model"
      ]
    },
    {
      "cell_type": "code",
      "execution_count": 61,
      "metadata": {
        "colab": {
          "base_uri": "https://localhost:8080/"
        },
        "id": "o4pg_FqeILMZ",
        "outputId": "cd5f97fe-cf3c-480a-88ee-be72eab053bd",
        "scrolled": true,
        "tags": []
      },
      "outputs": [
        {
          "output_type": "stream",
          "name": "stdout",
          "text": [
            "Epoch 1/50\n",
            "12/12 [==============================] - 16s 598ms/step - loss: 1.5970 - accuracy: 0.2191 - recall_5: 0.0000e+00 - precision_5: 0.0000e+00 - val_loss: 1.5582 - val_accuracy: 0.2526 - val_recall_5: 0.0000e+00 - val_precision_5: 0.0000e+00\n",
            "Epoch 2/50\n",
            "12/12 [==============================] - 13s 517ms/step - loss: 1.5217 - accuracy: 0.3010 - recall_5: 5.7887e-04 - precision_5: 1.0000 - val_loss: 1.4443 - val_accuracy: 0.3337 - val_recall_5: 0.0058 - val_precision_5: 0.3571\n",
            "Epoch 3/50\n",
            "12/12 [==============================] - 12s 518ms/step - loss: 1.4201 - accuracy: 0.3531 - recall_5: 0.0535 - precision_5: 0.6126 - val_loss: 1.3454 - val_accuracy: 0.4357 - val_recall_5: 0.0881 - val_precision_5: 0.6786\n",
            "Epoch 4/50\n",
            "12/12 [==============================] - 12s 510ms/step - loss: 1.3469 - accuracy: 0.4104 - recall_5: 0.0923 - precision_5: 0.6744 - val_loss: 1.2867 - val_accuracy: 0.4600 - val_recall_5: 0.1553 - val_precision_5: 0.5654\n",
            "Epoch 5/50\n",
            "12/12 [==============================] - 12s 516ms/step - loss: 1.2357 - accuracy: 0.4767 - recall_5: 0.1583 - precision_5: 0.6244 - val_loss: 1.2432 - val_accuracy: 0.4345 - val_recall_5: 0.2735 - val_precision_5: 0.5021\n",
            "Epoch 6/50\n",
            "12/12 [==============================] - 13s 516ms/step - loss: 1.1597 - accuracy: 0.5111 - recall_5: 0.2883 - precision_5: 0.6276 - val_loss: 1.1199 - val_accuracy: 0.5319 - val_recall_5: 0.3163 - val_precision_5: 0.6364\n",
            "Epoch 7/50\n",
            "12/12 [==============================] - 12s 509ms/step - loss: 1.0841 - accuracy: 0.5540 - recall_5: 0.3789 - precision_5: 0.6709 - val_loss: 1.1293 - val_accuracy: 0.5203 - val_recall_5: 0.3291 - val_precision_5: 0.6134\n",
            "Epoch 8/50\n",
            "12/12 [==============================] - 12s 513ms/step - loss: 1.0616 - accuracy: 0.5624 - recall_5: 0.3821 - precision_5: 0.6728 - val_loss: 1.0430 - val_accuracy: 0.5539 - val_recall_5: 0.4148 - val_precision_5: 0.6359\n",
            "Epoch 9/50\n",
            "12/12 [==============================] - 12s 516ms/step - loss: 1.0394 - accuracy: 0.5841 - recall_5: 0.4336 - precision_5: 0.6769 - val_loss: 1.0340 - val_accuracy: 0.5655 - val_recall_5: 0.4334 - val_precision_5: 0.6703\n",
            "Epoch 10/50\n",
            "12/12 [==============================] - 12s 502ms/step - loss: 1.0115 - accuracy: 0.5965 - recall_5: 0.4495 - precision_5: 0.6838 - val_loss: 1.0713 - val_accuracy: 0.5423 - val_recall_5: 0.4345 - val_precision_5: 0.6219\n",
            "Epoch 11/50\n",
            "12/12 [==============================] - 12s 518ms/step - loss: 0.9791 - accuracy: 0.6104 - recall_5: 0.4784 - precision_5: 0.6931 - val_loss: 1.0038 - val_accuracy: 0.5875 - val_recall_5: 0.4693 - val_precision_5: 0.6739\n",
            "Epoch 12/50\n",
            "12/12 [==============================] - 12s 516ms/step - loss: 0.9563 - accuracy: 0.6220 - recall_5: 0.5085 - precision_5: 0.7036 - val_loss: 0.9772 - val_accuracy: 0.6002 - val_recall_5: 0.4612 - val_precision_5: 0.6922\n",
            "Epoch 13/50\n",
            "12/12 [==============================] - 13s 549ms/step - loss: 0.9359 - accuracy: 0.6359 - recall_5: 0.5077 - precision_5: 0.7317 - val_loss: 1.0345 - val_accuracy: 0.5829 - val_recall_5: 0.4786 - val_precision_5: 0.6484\n",
            "Epoch 14/50\n",
            "12/12 [==============================] - 12s 527ms/step - loss: 0.9901 - accuracy: 0.6064 - recall_5: 0.4796 - precision_5: 0.6945 - val_loss: 1.0189 - val_accuracy: 0.5875 - val_recall_5: 0.4438 - val_precision_5: 0.6852\n",
            "Epoch 15/50\n",
            "12/12 [==============================] - 12s 511ms/step - loss: 0.9448 - accuracy: 0.6203 - recall_5: 0.5042 - precision_5: 0.7090 - val_loss: 0.9693 - val_accuracy: 0.5921 - val_recall_5: 0.5110 - val_precision_5: 0.6753\n",
            "Epoch 16/50\n",
            "12/12 [==============================] - 12s 508ms/step - loss: 0.8916 - accuracy: 0.6463 - recall_5: 0.5410 - precision_5: 0.7275 - val_loss: 0.9973 - val_accuracy: 0.5898 - val_recall_5: 0.4890 - val_precision_5: 0.6625\n",
            "Epoch 17/50\n",
            "12/12 [==============================] - 12s 517ms/step - loss: 0.8781 - accuracy: 0.6463 - recall_5: 0.5450 - precision_5: 0.7387 - val_loss: 0.9337 - val_accuracy: 0.6222 - val_recall_5: 0.5435 - val_precision_5: 0.6827\n",
            "Epoch 18/50\n",
            "12/12 [==============================] - 12s 518ms/step - loss: 0.8502 - accuracy: 0.6651 - recall_5: 0.5786 - precision_5: 0.7368 - val_loss: 0.9546 - val_accuracy: 0.6118 - val_recall_5: 0.5029 - val_precision_5: 0.6911\n",
            "Epoch 19/50\n",
            "12/12 [==============================] - 12s 503ms/step - loss: 0.8392 - accuracy: 0.6695 - recall_5: 0.5609 - precision_5: 0.7538 - val_loss: 0.9178 - val_accuracy: 0.6338 - val_recall_5: 0.5435 - val_precision_5: 0.7042\n",
            "Epoch 20/50\n",
            "12/12 [==============================] - 12s 510ms/step - loss: 0.7948 - accuracy: 0.6894 - recall_5: 0.6026 - precision_5: 0.7593 - val_loss: 0.9810 - val_accuracy: 0.6165 - val_recall_5: 0.5458 - val_precision_5: 0.6816\n",
            "Epoch 21/50\n",
            "12/12 [==============================] - 12s 505ms/step - loss: 0.8032 - accuracy: 0.6863 - recall_5: 0.5939 - precision_5: 0.7628 - val_loss: 0.9411 - val_accuracy: 0.6280 - val_recall_5: 0.5203 - val_precision_5: 0.7242\n",
            "Epoch 22/50\n",
            "12/12 [==============================] - 12s 504ms/step - loss: 0.8031 - accuracy: 0.6819 - recall_5: 0.5933 - precision_5: 0.7573 - val_loss: 0.9073 - val_accuracy: 0.6304 - val_recall_5: 0.5411 - val_precision_5: 0.6837\n",
            "Epoch 23/50\n",
            "12/12 [==============================] - 12s 513ms/step - loss: 0.7768 - accuracy: 0.6964 - recall_5: 0.6142 - precision_5: 0.7688 - val_loss: 0.8988 - val_accuracy: 0.6176 - val_recall_5: 0.5539 - val_precision_5: 0.6958\n",
            "Epoch 24/50\n",
            "12/12 [==============================] - 12s 506ms/step - loss: 0.7262 - accuracy: 0.7271 - recall_5: 0.6394 - precision_5: 0.7975 - val_loss: 0.9275 - val_accuracy: 0.6443 - val_recall_5: 0.5794 - val_precision_5: 0.6974\n",
            "Epoch 25/50\n",
            "12/12 [==============================] - 12s 506ms/step - loss: 0.7300 - accuracy: 0.7210 - recall_5: 0.6434 - precision_5: 0.7866 - val_loss: 0.8958 - val_accuracy: 0.6408 - val_recall_5: 0.5562 - val_precision_5: 0.7328\n",
            "Epoch 26/50\n",
            "12/12 [==============================] - 12s 507ms/step - loss: 0.7010 - accuracy: 0.7320 - recall_5: 0.6492 - precision_5: 0.7985 - val_loss: 0.8852 - val_accuracy: 0.6408 - val_recall_5: 0.5817 - val_precision_5: 0.7213\n",
            "Epoch 27/50\n",
            "12/12 [==============================] - 12s 528ms/step - loss: 0.7059 - accuracy: 0.7334 - recall_5: 0.6466 - precision_5: 0.8036 - val_loss: 0.9789 - val_accuracy: 0.6269 - val_recall_5: 0.5643 - val_precision_5: 0.7017\n",
            "Epoch 28/50\n",
            "12/12 [==============================] - 13s 573ms/step - loss: 0.6668 - accuracy: 0.7462 - recall_5: 0.6721 - precision_5: 0.8060 - val_loss: 0.8784 - val_accuracy: 0.6582 - val_recall_5: 0.5933 - val_precision_5: 0.7314\n",
            "Epoch 29/50\n",
            "12/12 [==============================] - 12s 512ms/step - loss: 0.6240 - accuracy: 0.7653 - recall_5: 0.7007 - precision_5: 0.8163 - val_loss: 0.9150 - val_accuracy: 0.6466 - val_recall_5: 0.5805 - val_precision_5: 0.6987\n",
            "Epoch 30/50\n",
            "12/12 [==============================] - 12s 536ms/step - loss: 0.5981 - accuracy: 0.7757 - recall_5: 0.7132 - precision_5: 0.8282 - val_loss: 1.0075 - val_accuracy: 0.6512 - val_recall_5: 0.5956 - val_precision_5: 0.6909\n",
            "Epoch 31/50\n",
            "12/12 [==============================] - 18s 847ms/step - loss: 0.5896 - accuracy: 0.7783 - recall_5: 0.7175 - precision_5: 0.8330 - val_loss: 1.0314 - val_accuracy: 0.6304 - val_recall_5: 0.5852 - val_precision_5: 0.6742\n",
            "Epoch 32/50\n",
            "12/12 [==============================] - 15s 509ms/step - loss: 0.5785 - accuracy: 0.7771 - recall_5: 0.7236 - precision_5: 0.8284 - val_loss: 0.9884 - val_accuracy: 0.6327 - val_recall_5: 0.5944 - val_precision_5: 0.6858\n",
            "Epoch 33/50\n",
            "12/12 [==============================] - 12s 514ms/step - loss: 0.5479 - accuracy: 0.7847 - recall_5: 0.7300 - precision_5: 0.8424 - val_loss: 0.9840 - val_accuracy: 0.6385 - val_recall_5: 0.6002 - val_precision_5: 0.6754\n",
            "Epoch 34/50\n",
            "12/12 [==============================] - 12s 508ms/step - loss: 0.5057 - accuracy: 0.8110 - recall_5: 0.7592 - precision_5: 0.8522 - val_loss: 0.9667 - val_accuracy: 0.6524 - val_recall_5: 0.5968 - val_precision_5: 0.7094\n",
            "Epoch 35/50\n",
            "12/12 [==============================] - 12s 505ms/step - loss: 0.4642 - accuracy: 0.8284 - recall_5: 0.7768 - precision_5: 0.8625 - val_loss: 1.1326 - val_accuracy: 0.6350 - val_recall_5: 0.5979 - val_precision_5: 0.6719\n",
            "Epoch 36/50\n",
            "12/12 [==============================] - 12s 505ms/step - loss: 0.4277 - accuracy: 0.8440 - recall_5: 0.8087 - precision_5: 0.8794 - val_loss: 1.0351 - val_accuracy: 0.6512 - val_recall_5: 0.6107 - val_precision_5: 0.6925\n",
            "Epoch 37/50\n",
            "12/12 [==============================] - 13s 562ms/step - loss: 0.3691 - accuracy: 0.8674 - recall_5: 0.8313 - precision_5: 0.8986 - val_loss: 1.1014 - val_accuracy: 0.6535 - val_recall_5: 0.6327 - val_precision_5: 0.6808\n",
            "Epoch 38/50\n",
            "12/12 [==============================] - 12s 513ms/step - loss: 0.3255 - accuracy: 0.8825 - recall_5: 0.8602 - precision_5: 0.9058 - val_loss: 1.2462 - val_accuracy: 0.6315 - val_recall_5: 0.6049 - val_precision_5: 0.6525\n",
            "Epoch 39/50\n",
            "12/12 [==============================] - 12s 508ms/step - loss: 0.4323 - accuracy: 0.8394 - recall_5: 0.8058 - precision_5: 0.8654 - val_loss: 1.0964 - val_accuracy: 0.6431 - val_recall_5: 0.6083 - val_precision_5: 0.6714\n",
            "Epoch 40/50\n",
            "12/12 [==============================] - 12s 503ms/step - loss: 0.3654 - accuracy: 0.8648 - recall_5: 0.8287 - precision_5: 0.8972 - val_loss: 1.0741 - val_accuracy: 0.6616 - val_recall_5: 0.6234 - val_precision_5: 0.6906\n",
            "Epoch 41/50\n",
            "12/12 [==============================] - 12s 509ms/step - loss: 0.2924 - accuracy: 0.8996 - recall_5: 0.8773 - precision_5: 0.9227 - val_loss: 1.3169 - val_accuracy: 0.6605 - val_recall_5: 0.6431 - val_precision_5: 0.6777\n",
            "Epoch 42/50\n",
            "12/12 [==============================] - 12s 502ms/step - loss: 0.2460 - accuracy: 0.9178 - recall_5: 0.9025 - precision_5: 0.9307 - val_loss: 1.3305 - val_accuracy: 0.6385 - val_recall_5: 0.6176 - val_precision_5: 0.6580\n",
            "Epoch 43/50\n",
            "12/12 [==============================] - 12s 502ms/step - loss: 0.2319 - accuracy: 0.9181 - recall_5: 0.9039 - precision_5: 0.9306 - val_loss: 1.3056 - val_accuracy: 0.6292 - val_recall_5: 0.6095 - val_precision_5: 0.6510\n",
            "Epoch 44/50\n",
            "12/12 [==============================] - 12s 507ms/step - loss: 0.2310 - accuracy: 0.9210 - recall_5: 0.9048 - precision_5: 0.9342 - val_loss: 1.3858 - val_accuracy: 0.6419 - val_recall_5: 0.6141 - val_precision_5: 0.6600\n",
            "Epoch 45/50\n",
            "12/12 [==============================] - 13s 505ms/step - loss: 0.1945 - accuracy: 0.9378 - recall_5: 0.9245 - precision_5: 0.9475 - val_loss: 1.3915 - val_accuracy: 0.6443 - val_recall_5: 0.6292 - val_precision_5: 0.6590\n",
            "Epoch 46/50\n",
            "12/12 [==============================] - 12s 505ms/step - loss: 0.1648 - accuracy: 0.9456 - recall_5: 0.9360 - precision_5: 0.9537 - val_loss: 1.5891 - val_accuracy: 0.6327 - val_recall_5: 0.6165 - val_precision_5: 0.6496\n",
            "Epoch 47/50\n",
            "12/12 [==============================] - 12s 509ms/step - loss: 0.1352 - accuracy: 0.9554 - recall_5: 0.9505 - precision_5: 0.9642 - val_loss: 1.8308 - val_accuracy: 0.6338 - val_recall_5: 0.6280 - val_precision_5: 0.6538\n",
            "Epoch 48/50\n",
            "12/12 [==============================] - 12s 501ms/step - loss: 0.1361 - accuracy: 0.9566 - recall_5: 0.9502 - precision_5: 0.9613 - val_loss: 1.6454 - val_accuracy: 0.6315 - val_recall_5: 0.6141 - val_precision_5: 0.6393\n",
            "Epoch 49/50\n",
            "12/12 [==============================] - 12s 507ms/step - loss: 0.1209 - accuracy: 0.9592 - recall_5: 0.9537 - precision_5: 0.9637 - val_loss: 1.8922 - val_accuracy: 0.6257 - val_recall_5: 0.6165 - val_precision_5: 0.6402\n",
            "Epoch 50/50\n",
            "12/12 [==============================] - 12s 512ms/step - loss: 0.1209 - accuracy: 0.9624 - recall_5: 0.9569 - precision_5: 0.9658 - val_loss: 1.9678 - val_accuracy: 0.5910 - val_recall_5: 0.5794 - val_precision_5: 0.6083\n"
          ]
        }
      ],
      "source": [
        "start_time = datetime.now()\n",
        "\n",
        "history = Model.fit(\n",
        "    train_ds,\n",
        "    batch_size = batch_size,\n",
        "    epochs = 50,\n",
        "    validation_data = val_ds,\n",
        "    verbose = 1\n",
        ")\n",
        "\n",
        "end_time = datetime.now()\n",
        "\n",
        "Model.save(\"/gdrive/MyDrive/SMS6-Deep_Learning/Week_9/Coding/model/\"+nama+\"_model.h5\")"
      ]
    },
    {
      "cell_type": "markdown",
      "metadata": {
        "id": "N8yhKrxOvQHd"
      },
      "source": [
        "# 6. Evaluation"
      ]
    },
    {
      "cell_type": "code",
      "execution_count": 62,
      "metadata": {
        "id": "vA4hEJ9cLXvh",
        "outputId": "1d20491f-e665-47e5-9314-4825bbbed04a",
        "colab": {
          "base_uri": "https://localhost:8080/"
        }
      },
      "outputs": [
        {
          "output_type": "stream",
          "name": "stdout",
          "text": [
            "Duration: 0:12:48.253992\n",
            "Average loss:  0.7030434370040893\n",
            "Average accuracy:  0.717921853363514\n",
            "Average recall:  0.6222286541434005\n",
            "Average precision:  0.7911318171024323\n",
            "Average val_loss:  1.1522168934345245\n",
            "Average val_accuracy:  0.5959675568342209\n",
            "Average val_recall:  0.506558518409729\n",
            "Average val_precision:  0.6491439378261566\n"
          ]
        }
      ],
      "source": [
        "import numpy as np\n",
        "\n",
        "print(\"Duration: \"+ str(end_time - start_time))\n",
        "print(\"Average loss: \", np.average(history.history['loss']))\n",
        "print(\"Average accuracy: \", np.average(history.history['accuracy']))\n",
        "print(\"Average recall: \", np.average(history.history['recall_5']))\n",
        "print(\"Average precision: \", np.average(history.history['precision_5']))\n",
        "print(\"Average val_loss: \", np.average(history.history['val_loss']))\n",
        "print(\"Average val_accuracy: \", np.average(history.history['val_accuracy']))\n",
        "print(\"Average val_recall: \", np.average(history.history['val_recall_5']))\n",
        "print(\"Average val_precision: \", np.average(history.history['val_precision_5']))"
      ]
    },
    {
      "cell_type": "code",
      "execution_count": 63,
      "metadata": {
        "id": "L8n2-U3evfw-",
        "outputId": "e59919cf-3dc6-4c76-e832-7d9dbf039ccb",
        "colab": {
          "base_uri": "https://localhost:8080/",
          "height": 295
        }
      },
      "outputs": [
        {
          "output_type": "display_data",
          "data": {
            "text/plain": [
              "<Figure size 432x288 with 1 Axes>"
            ],
            "image/png": "[encoded data removed]"
          },
          "metadata": {
            "needs_background": "light"
          }
        }
      ],
      "source": [
        "# Membuat grafik progress akurasi dari model\n",
        "import matplotlib.pyplot as plt\n",
        "\n",
        "def plot_acc_hist(hist):\n",
        "    plt.plot(hist.history[\"accuracy\"])\n",
        "    plt.plot(hist.history[\"val_accuracy\"])\n",
        "    plt.title(\"Model\")\n",
        "    plt.ylabel(\"accuracy\")\n",
        "    plt.xlabel(\"epoch\")\n",
        "    plt.legend([\"train\", \"validation\"], loc=\"upper left\")\n",
        "    plt.show()\n",
        "\n",
        "plot_acc_hist(history)"
      ]
    },
    {
      "cell_type": "code",
      "execution_count": 64,
      "metadata": {
        "id": "PhDpY-bVvk1L",
        "outputId": "43b7040a-c655-4173-9201-7be67eb5e2b0",
        "colab": {
          "base_uri": "https://localhost:8080/",
          "height": 295
        }
      },
      "outputs": [
        {
          "output_type": "display_data",
          "data": {
            "text/plain": [
              "<Figure size 432x288 with 1 Axes>"
            ],
            "image/png": "[encoded data removed]"
          },
          "metadata": {
            "needs_background": "light"
          }
        }
      ],
      "source": [
        "# Membuat grafik progress loss dari model\n",
        "import matplotlib.pyplot as plt\n",
        "\n",
        "def plot_loss_hist(hist):\n",
        "    plt.plot(hist.history[\"loss\"])\n",
        "    plt.plot(hist.history[\"val_loss\"])\n",
        "    plt.title(\"Model\")\n",
        "    plt.ylabel(\"loss\")\n",
        "    plt.xlabel(\"epoch\")\n",
        "    plt.legend([\"train\", \"validation\"], loc=\"upper left\")\n",
        "    plt.show()\n",
        "\n",
        "plot_loss_hist(history)"
      ]
    },
    {
      "cell_type": "markdown",
      "metadata": {
        "id": "7StFk-ijC1Ms"
      },
      "source": [
        "# 7. Testing"
      ]
    },
    {
      "cell_type": "code",
      "execution_count": 65,
      "metadata": {
        "colab": {
          "base_uri": "https://localhost:8080/"
        },
        "id": "9HDQagkFzmA9",
        "outputId": "d6aad058-508a-4f84-f0bd-1204226dd4d2"
      },
      "outputs": [
        {
          "output_type": "stream",
          "name": "stdout",
          "text": [
            "Model: \"model_5\"\n",
            "_________________________________________________________________\n",
            " Layer (type)                Output Shape              Param #   \n",
            "=================================================================\n",
            " input_6 (InputLayer)        [(None, 224, 224, 3)]     0         \n",
            "                                                                 \n",
            " rescaling_6 (Rescaling)     (None, 224, 224, 3)       0         \n",
            "                                                                 \n",
            " conv2d_17 (Conv2D)          (None, 56, 56, 16)        5824      \n",
            "                                                                 \n",
            " activation_6 (Activation)   (None, 56, 56, 16)        0         \n",
            "                                                                 \n",
            " max_pooling2d_11 (MaxPoolin  (None, 28, 28, 16)       0         \n",
            " g2D)                                                            \n",
            "                                                                 \n",
            " conv2d_18 (Conv2D)          (None, 14, 14, 32)        4640      \n",
            "                                                                 \n",
            " activation_7 (Activation)   (None, 14, 14, 32)        0         \n",
            "                                                                 \n",
            " max_pooling2d_12 (MaxPoolin  (None, 7, 7, 32)         0         \n",
            " g2D)                                                            \n",
            "                                                                 \n",
            " conv2d_19 (Conv2D)          (None, 7, 7, 64)          18496     \n",
            "                                                                 \n",
            " conv2d_20 (Conv2D)          (None, 7, 7, 128)         73856     \n",
            "                                                                 \n",
            " flatten_5 (Flatten)         (None, 6272)              0         \n",
            "                                                                 \n",
            " dense_27 (Dense)            (None, 64)                401472    \n",
            "                                                                 \n",
            " dense_28 (Dense)            (None, 48)                3120      \n",
            "                                                                 \n",
            " dense_29 (Dense)            (None, 32)                1568      \n",
            "                                                                 \n",
            " dense_30 (Dense)            (None, 32)                1056      \n",
            "                                                                 \n",
            " dense_31 (Dense)            (None, 48)                1584      \n",
            "                                                                 \n",
            " dense_32 (Dense)            (None, 64)                3136      \n",
            "                                                                 \n",
            " dense_33 (Dense)            (None, 5)                 325       \n",
            "                                                                 \n",
            "=================================================================\n",
            "Total params: 515,077\n",
            "Trainable params: 515,077\n",
            "Non-trainable params: 0\n",
            "_________________________________________________________________\n"
          ]
        }
      ],
      "source": [
        "from tensorflow import keras\n",
        "\n",
        "loaded_model = keras.models.load_model('/gdrive/MyDrive/SMS6-Deep_Learning/Week_9/Coding/model/'+nama+'_model.h5')\n",
        "loaded_model.summary()"
      ]
    },
    {
      "cell_type": "code",
      "execution_count": 66,
      "metadata": {
        "colab": {
          "base_uri": "https://localhost:8080/"
        },
        "id": "H_ijWopuyfcs",
        "outputId": "4fdd84f3-3ecf-45ab-b905-bc6adff964f4"
      },
      "outputs": [
        {
          "output_type": "stream",
          "name": "stdout",
          "text": [
            "Found 4324 files belonging to 5 classes.\n",
            "['daisy', 'dandelion', 'rose', 'sunflower', 'tulip']\n"
          ]
        }
      ],
      "source": [
        "import numpy as np\n",
        "import pandas as pd\n",
        "\n",
        "test_ds = image_dataset_from_directory(\n",
        "    data_dir+\"/test\",\n",
        "    validation_split = 0,\n",
        "    image_size = (width, height),\n",
        "    batch_size = batch_size,\n",
        "    label_mode = 'categorical'\n",
        ")\n",
        "\n",
        "class_names = test_ds.class_names\n",
        "print(class_names)\n",
        "\n",
        "predictions = np.array([])\n",
        "labels =  np.array([])\n",
        "\n",
        "for x, y in test_ds:\n",
        "    predictions = np.concatenate([predictions, np.argmax(loaded_model.predict(x), axis = -1)])\n",
        "    labels = np.concatenate([labels, np.argmax(y.numpy(), axis=-1)])\n",
        "\n",
        "cf_matrix = tf.math.confusion_matrix(labels=labels, predictions=predictions).numpy()\n",
        "\n",
        "df = pd.DataFrame(cf_matrix, columns = class_names, index = class_names)"
      ]
    },
    {
      "cell_type": "code",
      "execution_count": 67,
      "metadata": {
        "id": "2Dn08nR9nVqv",
        "outputId": "3d1db653-438e-4bb4-b8e7-c3478f678b0d",
        "colab": {
          "base_uri": "https://localhost:8080/",
          "height": 206
        }
      },
      "outputs": [
        {
          "output_type": "execute_result",
          "data": {
            "text/plain": [
              "           daisy  dandelion  rose  sunflower  tulip\n",
              "daisy        703         41    16          4      5\n",
              "dandelion     59        970     7         10      6\n",
              "rose          32         24   689          8     31\n",
              "sunflower     20         29     8        670      8\n",
              "tulip         36         34   180         38    696"
            ],
            "text/html": [
              "\n",
              "  <div id=\"df-1138850e-b4e9-4bea-8e48-b9964695d3d8\">\n",
              "    <div class=\"colab-df-container\">\n",
              "      <div>\n",
              "<style scoped>\n",
              "    .dataframe tbody tr th:only-of-type {\n",
              "        vertical-align: middle;\n",
              "    }\n",
              "\n",
              "    .dataframe tbody tr th {\n",
              "        vertical-align: top;\n",
              "    }\n",
              "\n",
              "    .dataframe thead th {\n",
              "        text-align: right;\n",
              "    }\n",
              "</style>\n",
              "<table border=\"1\" class=\"dataframe\">\n",
              "  <thead>\n",
              "    <tr style=\"text-align: right;\">\n",
              "      <th></th>\n",
              "      <th>daisy</th>\n",
              "      <th>dandelion</th>\n",
              "      <th>rose</th>\n",
              "      <th>sunflower</th>\n",
              "      <th>tulip</th>\n",
              "    </tr>\n",
              "  </thead>\n",
              "  <tbody>\n",
              "    <tr>\n",
              "      <th>daisy</th>\n",
              "      <td>703</td>\n",
              "      <td>41</td>\n",
              "      <td>16</td>\n",
              "      <td>4</td>\n",
              "      <td>5</td>\n",
              "    </tr>\n",
              "    <tr>\n",
              "      <th>dandelion</th>\n",
              "      <td>59</td>\n",
              "      <td>970</td>\n",
              "      <td>7</td>\n",
              "      <td>10</td>\n",
              "      <td>6</td>\n",
              "    </tr>\n",
              "    <tr>\n",
              "      <th>rose</th>\n",
              "      <td>32</td>\n",
              "      <td>24</td>\n",
              "      <td>689</td>\n",
              "      <td>8</td>\n",
              "      <td>31</td>\n",
              "    </tr>\n",
              "    <tr>\n",
              "      <th>sunflower</th>\n",
              "      <td>20</td>\n",
              "      <td>29</td>\n",
              "      <td>8</td>\n",
              "      <td>670</td>\n",
              "      <td>8</td>\n",
              "    </tr>\n",
              "    <tr>\n",
              "      <th>tulip</th>\n",
              "      <td>36</td>\n",
              "      <td>34</td>\n",
              "      <td>180</td>\n",
              "      <td>38</td>\n",
              "      <td>696</td>\n",
              "    </tr>\n",
              "  </tbody>\n",
              "</table>\n",
              "</div>\n",
              "      <button class=\"colab-df-convert\" onclick=\"convertToInteractive('df-1138850e-b4e9-4bea-8e48-b9964695d3d8')\"\n",
              "              title=\"Convert this dataframe to an interactive table.\"\n",
              "              style=\"display:none;\">\n",
              "        \n",
              "  <svg xmlns=\"http://www.w3.org/2000/svg\" height=\"24px\"viewBox=\"0 0 24 24\"\n",
              "       width=\"24px\">\n",
              "    <path d=\"M0 0h24v24H0V0z\" fill=\"none\"/>\n",
              "    <path d=\"M18.56 5.44l.94 2.06.94-2.06 2.06-.94-2.06-.94-.94-2.06-.94 2.06-2.06.94zm-11 1L8.5 8.5l.94-2.06 2.06-.94-2.06-.94L8.5 2.5l-.94 2.06-2.06.94zm10 10l.94 2.06.94-2.06 2.06-.94-2.06-.94-.94-2.06-.94 2.06-2.06.94z\"/><path d=\"M17.41 7.96l-1.37-1.37c-.4-.4-.92-.59-1.43-.59-.52 0-1.04.2-1.43.59L10.3 9.45l-7.72 7.72c-.78.78-.78 2.05 0 2.83L4 21.41c.39.39.9.59 1.41.59.51 0 1.02-.2 1.41-.59l7.78-7.78 2.81-2.81c.8-.78.8-2.07 0-2.86zM5.41 20L4 18.59l7.72-7.72 1.47 1.35L5.41 20z\"/>\n",
              "  </svg>\n",
              "      </button>\n",
              "      \n",
              "  <style>\n",
              "    .colab-df-container {\n",
              "      display:flex;\n",
              "      flex-wrap:wrap;\n",
              "      gap: 12px;\n",
              "    }\n",
              "\n",
              "    .colab-df-convert {\n",
              "      background-color: #E8F0FE;\n",
              "      border: none;\n",
              "      border-radius: 50%;\n",
              "      cursor: pointer;\n",
              "      display: none;\n",
              "      fill: #1967D2;\n",
              "      height: 32px;\n",
              "      padding: 0 0 0 0;\n",
              "      width: 32px;\n",
              "    }\n",
              "\n",
              "    .colab-df-convert:hover {\n",
              "      background-color: #E2EBFA;\n",
              "      box-shadow: 0px 1px 2px rgba(60, 64, 67, 0.3), 0px 1px 3px 1px rgba(60, 64, 67, 0.15);\n",
              "      fill: #174EA6;\n",
              "    }\n",
              "\n",
              "    [theme=dark] .colab-df-convert {\n",
              "      background-color: #3B4455;\n",
              "      fill: #D2E3FC;\n",
              "    }\n",
              "\n",
              "    [theme=dark] .colab-df-convert:hover {\n",
              "      background-color: #434B5C;\n",
              "      box-shadow: 0px 1px 3px 1px rgba(0, 0, 0, 0.15);\n",
              "      filter: drop-shadow(0px 1px 2px rgba(0, 0, 0, 0.3));\n",
              "      fill: #FFFFFF;\n",
              "    }\n",
              "  </style>\n",
              "\n",
              "      <script>\n",
              "        const buttonEl =\n",
              "          document.querySelector('#df-1138850e-b4e9-4bea-8e48-b9964695d3d8 button.colab-df-convert');\n",
              "        buttonEl.style.display =\n",
              "          google.colab.kernel.accessAllowed ? 'block' : 'none';\n",
              "\n",
              "        async function convertToInteractive(key) {\n",
              "          const element = document.querySelector('#df-1138850e-b4e9-4bea-8e48-b9964695d3d8');\n",
              "          const dataTable =\n",
              "            await google.colab.kernel.invokeFunction('convertToInteractive',\n",
              "                                                     [key], {});\n",
              "          if (!dataTable) return;\n",
              "\n",
              "          const docLinkHtml = 'Like what you see? Visit the ' +\n",
              "            '<a target=\"_blank\" href=https://colab.research.google.com/notebooks/data_table.ipynb>data table notebook</a>'\n",
              "            + ' to learn more about interactive tables.';\n",
              "          element.innerHTML = '';\n",
              "          dataTable['output_type'] = 'display_data';\n",
              "          await google.colab.output.renderOutput(dataTable, element);\n",
              "          const docLink = document.createElement('div');\n",
              "          docLink.innerHTML = docLinkHtml;\n",
              "          element.appendChild(docLink);\n",
              "        }\n",
              "      </script>\n",
              "    </div>\n",
              "  </div>\n",
              "  "
            ]
          },
          "metadata": {},
          "execution_count": 67
        }
      ],
      "source": [
        "df"
      ]
    },
    {
      "cell_type": "code",
      "execution_count": 68,
      "metadata": {
        "colab": {
          "base_uri": "https://localhost:8080/",
          "height": 282
        },
        "id": "5ZuL0Q8l7Bxd",
        "outputId": "40725514-bcd3-4af7-822e-bf58c63fe532"
      },
      "outputs": [
        {
          "output_type": "execute_result",
          "data": {
            "text/plain": [
              "<matplotlib.axes._subplots.AxesSubplot at 0x7f0292468c90>"
            ]
          },
          "metadata": {},
          "execution_count": 68
        },
        {
          "output_type": "display_data",
          "data": {
            "text/plain": [
              "<Figure size 432x288 with 2 Axes>"
            ],
            "image/png": "[encoded data removed]"
          },
          "metadata": {
            "needs_background": "light"
          }
        }
      ],
      "source": [
        "import seaborn as sns\n",
        "sns.heatmap(df, annot=True,fmt=\"d\")"
      ]
    },
    {
      "cell_type": "markdown",
      "metadata": {
        "id": "tdyLXjuA0S5A"
      },
      "source": [
        "# 8. Prediction"
      ]
    },
    {
      "cell_type": "code",
      "execution_count": 38,
      "metadata": {
        "colab": {
          "base_uri": "https://localhost:8080/",
          "height": 461
        },
        "id": "Xwy70Jo90SLb",
        "outputId": "ba01917f-50e2-4435-975d-83f168d1b920"
      },
      "outputs": [
        {
          "output_type": "error",
          "ename": "FileNotFoundError",
          "evalue": "ignored",
          "traceback": [
            "\u001b[0;31m---------------------------------------------------------------------------\u001b[0m",
            "\u001b[0;31mFileNotFoundError\u001b[0m                         Traceback (most recent call last)",
            "\u001b[0;32m<ipython-input-38-15c785448201>\u001b[0m in \u001b[0;36m<module>\u001b[0;34m()\u001b[0m\n\u001b[1;32m      7\u001b[0m \u001b[0;34m\u001b[0m\u001b[0m\n\u001b[1;32m      8\u001b[0m \u001b[0mpath\u001b[0m \u001b[0;34m=\u001b[0m \u001b[0;34m\"/gdrive/MyDrive/DeepLearning/Coding/Data/dogs-vs-cats_small/predict/dog.jpg\"\u001b[0m\u001b[0;34m\u001b[0m\u001b[0;34m\u001b[0m\u001b[0m\n\u001b[0;32m----> 9\u001b[0;31m \u001b[0mimg\u001b[0m \u001b[0;34m=\u001b[0m \u001b[0mkeras\u001b[0m\u001b[0;34m.\u001b[0m\u001b[0mpreprocessing\u001b[0m\u001b[0;34m.\u001b[0m\u001b[0mimage\u001b[0m\u001b[0;34m.\u001b[0m\u001b[0mload_img\u001b[0m\u001b[0;34m(\u001b[0m\u001b[0mpath\u001b[0m\u001b[0;34m,\u001b[0m \u001b[0mtarget_size\u001b[0m \u001b[0;34m=\u001b[0m \u001b[0;34m(\u001b[0m\u001b[0mwidth\u001b[0m\u001b[0;34m,\u001b[0m \u001b[0mheight\u001b[0m\u001b[0;34m)\u001b[0m\u001b[0;34m)\u001b[0m\u001b[0;34m\u001b[0m\u001b[0;34m\u001b[0m\u001b[0m\n\u001b[0m\u001b[1;32m     10\u001b[0m \u001b[0mimg_array\u001b[0m \u001b[0;34m=\u001b[0m \u001b[0mkeras\u001b[0m\u001b[0;34m.\u001b[0m\u001b[0mpreprocessing\u001b[0m\u001b[0;34m.\u001b[0m\u001b[0mimage\u001b[0m\u001b[0;34m.\u001b[0m\u001b[0mimg_to_array\u001b[0m\u001b[0;34m(\u001b[0m\u001b[0mimg\u001b[0m\u001b[0;34m)\u001b[0m\u001b[0;34m\u001b[0m\u001b[0;34m\u001b[0m\u001b[0m\n\u001b[1;32m     11\u001b[0m \u001b[0mimg_array\u001b[0m \u001b[0;34m=\u001b[0m \u001b[0mtf\u001b[0m\u001b[0;34m.\u001b[0m\u001b[0mexpand_dims\u001b[0m\u001b[0;34m(\u001b[0m\u001b[0mimg_array\u001b[0m\u001b[0;34m,\u001b[0m \u001b[0;36m0\u001b[0m\u001b[0;34m)\u001b[0m\u001b[0;34m\u001b[0m\u001b[0;34m\u001b[0m\u001b[0m\n",
            "\u001b[0;32m/usr/local/lib/python3.7/dist-packages/keras/preprocessing/image.py\u001b[0m in \u001b[0;36mload_img\u001b[0;34m(path, grayscale, color_mode, target_size, interpolation)\u001b[0m\n\u001b[1;32m    312\u001b[0m   \"\"\"\n\u001b[1;32m    313\u001b[0m   return image.load_img(path, grayscale=grayscale, color_mode=color_mode,\n\u001b[0;32m--> 314\u001b[0;31m                         target_size=target_size, interpolation=interpolation)\n\u001b[0m\u001b[1;32m    315\u001b[0m \u001b[0;34m\u001b[0m\u001b[0m\n\u001b[1;32m    316\u001b[0m \u001b[0;34m\u001b[0m\u001b[0m\n",
            "\u001b[0;32m/usr/local/lib/python3.7/dist-packages/keras_preprocessing/image/utils.py\u001b[0m in \u001b[0;36mload_img\u001b[0;34m(path, grayscale, color_mode, target_size, interpolation)\u001b[0m\n\u001b[1;32m    111\u001b[0m         raise ImportError('Could not import PIL.Image. '\n\u001b[1;32m    112\u001b[0m                           'The use of `load_img` requires PIL.')\n\u001b[0;32m--> 113\u001b[0;31m     \u001b[0;32mwith\u001b[0m \u001b[0mopen\u001b[0m\u001b[0;34m(\u001b[0m\u001b[0mpath\u001b[0m\u001b[0;34m,\u001b[0m \u001b[0;34m'rb'\u001b[0m\u001b[0;34m)\u001b[0m \u001b[0;32mas\u001b[0m \u001b[0mf\u001b[0m\u001b[0;34m:\u001b[0m\u001b[0;34m\u001b[0m\u001b[0;34m\u001b[0m\u001b[0m\n\u001b[0m\u001b[1;32m    114\u001b[0m         \u001b[0mimg\u001b[0m \u001b[0;34m=\u001b[0m \u001b[0mpil_image\u001b[0m\u001b[0;34m.\u001b[0m\u001b[0mopen\u001b[0m\u001b[0;34m(\u001b[0m\u001b[0mio\u001b[0m\u001b[0;34m.\u001b[0m\u001b[0mBytesIO\u001b[0m\u001b[0;34m(\u001b[0m\u001b[0mf\u001b[0m\u001b[0;34m.\u001b[0m\u001b[0mread\u001b[0m\u001b[0;34m(\u001b[0m\u001b[0;34m)\u001b[0m\u001b[0;34m)\u001b[0m\u001b[0;34m)\u001b[0m\u001b[0;34m\u001b[0m\u001b[0;34m\u001b[0m\u001b[0m\n\u001b[1;32m    115\u001b[0m         \u001b[0;32mif\u001b[0m \u001b[0mcolor_mode\u001b[0m \u001b[0;34m==\u001b[0m \u001b[0;34m'grayscale'\u001b[0m\u001b[0;34m:\u001b[0m\u001b[0;34m\u001b[0m\u001b[0;34m\u001b[0m\u001b[0m\n",
            "\u001b[0;31mFileNotFoundError\u001b[0m: [Errno 2] No such file or directory: '/gdrive/MyDrive/DeepLearning/Coding/Data/dogs-vs-cats_small/predict/dog.jpg'"
          ]
        }
      ],
      "source": [
        "# Binary\n",
        "from tensorflow import keras\n",
        "import tensorflow as tf\n",
        "import numpy as np\n",
        "\n",
        "className = ['Cat', 'Dog']\n",
        "\n",
        "path = \"/gdrive/MyDrive/DeepLearning/Coding/Data/dogs-vs-cats_small/predict/dog.jpg\"\n",
        "img = keras.preprocessing.image.load_img(path, target_size = (width, height))\n",
        "img_array = keras.preprocessing.image.img_to_array(img)\n",
        "img_array = tf.expand_dims(img_array, 0)\n",
        "\n",
        "loaded_model = keras.models.load_model('/gdrive/MyDrive/DeepLearning/Coding/model/'+nama+'_model.h5')\n",
        "prediction = loaded_model.predict(img_array)\n",
        "\n",
        "print(className[int(np.rint(np.max(prediction)))])"
      ]
    },
    {
      "cell_type": "code",
      "execution_count": 40,
      "metadata": {
        "id": "fOsuVgRgBdBX",
        "outputId": "0f5951c1-8af1-4c6e-b5be-fb6aa95bd654",
        "colab": {
          "base_uri": "https://localhost:8080/"
        }
      },
      "outputs": [
        {
          "output_type": "stream",
          "name": "stdout",
          "text": [
            "This image most likely belongs to rose with a 39.60 percent confidence.\n"
          ]
        }
      ],
      "source": [
        "# Multiclass\n",
        "from tensorflow import keras\n",
        "import tensorflow as tf\n",
        "import numpy as np\n",
        "\n",
        "className = ['daisy', 'dandelion', 'rose', 'sunflower', 'tulip']\n",
        "\n",
        "path = \"/gdrive/MyDrive/SMS6-Deep_Learning/Week_9/Coding/Data/flowers/predict/tulip.jpg\"\n",
        "img = keras.preprocessing.image.load_img(path, target_size = (width, height))\n",
        "img_array = keras.preprocessing.image.img_to_array(img)\n",
        "img_array = tf.expand_dims(img_array, 0)\n",
        "\n",
        "loaded_model = keras.models.load_model('/gdrive/MyDrive/SMS6-Deep_Learning/Week_9/Coding/model/'+nama+'_model.h5')\n",
        "prediction = loaded_model.predict(img_array)\n",
        "score = tf.nn.softmax(prediction[0])\n",
        "\n",
        "print(\n",
        "    \"This image most likely belongs to {} with a {:.2f} percent confidence.\"\n",
        "    .format(class_names[np.argmax(score)], 100 * np.max(score))\n",
        ")"
      ]
    },
    {
      "cell_type": "code",
      "execution_count": null,
      "metadata": {
        "id": "ZuKGewz3nVqx"
      },
      "outputs": [],
      "source": [
        ""
      ]
    }
  ],
  "metadata": {
    "accelerator": "GPU",
    "colab": {
      "collapsed_sections": [],
      "name": "Week10.ipynb",
      "provenance": []
    },
    "kernelspec": {
      "display_name": "Python 3 (ipykernel)",
      "language": "python",
      "name": "python3"
    },
    "language_info": {
      "codemirror_mode": {
        "name": "ipython",
        "version": 3
      },
      "file_extension": ".py",
      "mimetype": "text/x-python",
      "name": "python",
      "nbconvert_exporter": "python",
      "pygments_lexer": "ipython3",
      "version": "3.8.10"
    }
  },
  "nbformat": 4,
  "nbformat_minor": 0
}